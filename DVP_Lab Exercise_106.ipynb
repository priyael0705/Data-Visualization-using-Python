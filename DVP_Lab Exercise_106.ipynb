{
 "cells": [
  {
   "cell_type": "markdown",
   "id": "7514c339",
   "metadata": {},
   "source": [
    "# Ex No 1"
   ]
  },
  {
   "cell_type": "markdown",
   "id": "3ec62b5d",
   "metadata": {},
   "source": [
    "# Ex No 1.a: Basic NumPy Array Operations"
   ]
  },
  {
   "cell_type": "markdown",
   "id": "1437d821",
   "metadata": {},
   "source": [
    "Aim: To understand the basics of NumPy arrays, including creation, attributes, slicing and indexing.\n",
    "\n",
    "Scenario: You are a financial analyst working with a dataset of monthly sales revenue for a company over a year. You need to organize and analyze this data efficiently.\n",
    "\n",
    "Sample Dataset:\n",
    "months = ['January', 'February', 'March', 'April', 'May', 'June', 'July', 'August', 'September', 'October', 'November', 'December']\n",
    "sales_revenue = [12000, 15000, 17000, 13000, 16000, 18000, 20000, 19000, 17500, 16000, 15000, 16500]\n",
    "\n",
    "Task to be Performed:\n",
    "1.\tCreate a NumPy array from the sales revenue list.\n",
    "2.\tRetrieve the attributes of the array (shape, size, dtype).\n",
    "3.\tSlice the array to get the sales revenue for the first half of the year.\n",
    "4.\tIndex the array to get the sales revenue for May.\n",
    "5.\tCalculate the total sales revenue for the year.\n",
    "6.\tFind the month with the highest sales revenue.\n",
    "\n",
    "Expected Output:\n",
    "\n",
    "Shape: (12,)\n",
    "\n",
    "Size: 12\n",
    "\n",
    "Data type: int32\n",
    "\n",
    "First half of the year sales revenue: [12000 15000 17000 13000 16000 18000]\n",
    "\n",
    "Sales revenue for May: 16000\n",
    "\n",
    "Total sales revenue for the year: 195500\n",
    "\n",
    "Month with highest sales revenue: July"
   ]
  },
  {
   "cell_type": "code",
   "execution_count": 4,
   "id": "2484baf4",
   "metadata": {},
   "outputs": [
    {
     "name": "stdout",
     "output_type": "stream",
     "text": [
      "FOR THE MONTHS ARRAY\n",
      "Shape: (12,)\n",
      "Dtype: <U9\n",
      "Size: 12\n"
     ]
    }
   ],
   "source": [
    "import numpy as np\n",
    "import pandas as pd\n",
    "\n",
    "# 1.Create a NumPy array from the sales revenue list\n",
    "months = ['January', 'February', 'March', 'April', 'May', 'June', 'July', 'August', 'September', 'October', 'November', 'December']\n",
    "sales_revenue = [12000, 15000, 17000, 13000, 16000, 18000, 20000, 19000, 17500, 16000, 15000, 16500]\n",
    "month=np.array(months)\n",
    "sales=np.array(sales_revenue)\n",
    "\n",
    "# 2.Retrieve the attributes of the array (shape, size, dtype).\n",
    "print(\"FOR THE MONTHS ARRAY\")\n",
    "print(\"Shape:\",month.shape)\n",
    "print(\"Dtype:\",month.dtype)\n",
    "print(\"Size:\",month.size)"
   ]
  },
  {
   "cell_type": "code",
   "execution_count": 5,
   "id": "abcdac6d",
   "metadata": {},
   "outputs": [
    {
     "name": "stdout",
     "output_type": "stream",
     "text": [
      "FOR THE SALES ARRAY\n",
      "Shape: (12,)\n",
      "Dtype: int32\n",
      "Size: 12\n"
     ]
    }
   ],
   "source": [
    "print(\"FOR THE SALES ARRAY\")\n",
    "print(\"Shape:\",sales.shape)\n",
    "print(\"Dtype:\",sales.dtype)\n",
    "print(\"Size:\",sales.size)"
   ]
  },
  {
   "cell_type": "code",
   "execution_count": 8,
   "id": "a4364cc2",
   "metadata": {},
   "outputs": [
    {
     "name": "stdout",
     "output_type": "stream",
     "text": [
      "[12000 15000 17000 13000 16000 18000]\n"
     ]
    }
   ],
   "source": [
    "# 3.Slice the array to get the sales revenue for the first half of the year.\n",
    "print(sales[:6])"
   ]
  },
  {
   "cell_type": "code",
   "execution_count": 10,
   "id": "03799bfc",
   "metadata": {},
   "outputs": [
    {
     "name": "stdout",
     "output_type": "stream",
     "text": [
      "16000\n"
     ]
    }
   ],
   "source": [
    "# 4.ndex the array to get the sales revenue for May. \n",
    "print(sales[4])"
   ]
  },
  {
   "cell_type": "code",
   "execution_count": 11,
   "id": "6729d9ee",
   "metadata": {},
   "outputs": [
    {
     "name": "stdout",
     "output_type": "stream",
     "text": [
      "195000\n"
     ]
    }
   ],
   "source": [
    "# 5.Calculate the total sales revenue for the year.\n",
    "print(np.sum(sales))"
   ]
  },
  {
   "cell_type": "code",
   "execution_count": 13,
   "id": "e009224c",
   "metadata": {},
   "outputs": [
    {
     "name": "stdout",
     "output_type": "stream",
     "text": [
      "July\n"
     ]
    }
   ],
   "source": [
    "# 6.Find the month with the highest sales revenue.\n",
    "print(month[np.argmax(sales)])"
   ]
  },
  {
   "cell_type": "markdown",
   "id": "044584b5",
   "metadata": {},
   "source": [
    "# Ex. No. 1.b: Aggregate Functions"
   ]
  },
  {
   "cell_type": "markdown",
   "id": "5fdaf1d6",
   "metadata": {},
   "source": [
    "Aim:\n",
    "To use aggregate functions in NumPy for summarizing and analyzing data.\n",
    "\n",
    "Scenario:\n",
    "You are a financial analyst examining the monthly returns of different investment portfolios. You need to calculate various aggregate statistics to understand the performance and risk associated with each portfolio.\n",
    "\n",
    "Sample Dataset:\n",
    "returns_data = {\n",
    "    'portfolio_A': [0.05, 0.02, 0.04, 0.03, 0.06, 0.01],\n",
    "    'portfolio_B': [0.04, 0.03, 0.05, 0.02, 0.01, 0.04],\n",
    "    'portfolio_C': [0.03, 0.01, 0.02, 0.03, 0.04, 0.05]\n",
    "}\n",
    "\n",
    "Task to be Performed:\n",
    "\n",
    "1.\tCreate a NumPy array for each portfolio's returns.\n",
    "2.\tCalculate the total return for each portfolio over the six months.\n",
    "3.\tCalculate the mean monthly return for each portfolio.\n",
    "4.\tFind the portfolio with the highest mean return.\n",
    "5.\tCalculate the overall average return across all portfolios.\n",
    "6.\tDetermine the variance and standard deviation of the returns for each portfolio to assess risk.\n"
   ]
  },
  {
   "cell_type": "code",
   "execution_count": 14,
   "id": "162ba55d",
   "metadata": {},
   "outputs": [
    {
     "name": "stdout",
     "output_type": "stream",
     "text": [
      "[0.05 0.02 0.04 0.03 0.06 0.01]\n",
      "[0.04 0.03 0.05 0.02 0.01 0.04]\n",
      "[0.03 0.01 0.02 0.03 0.04 0.05]\n"
     ]
    }
   ],
   "source": [
    "# 1.Create a NumPy array for each portfolio's returns.\n",
    "returns_data = { 'portfolio_A': [0.05, 0.02, 0.04, 0.03, 0.06, 0.01], 'portfolio_B': [0.04, 0.03, 0.05, 0.02, 0.01, 0.04], 'portfolio_C': [0.03, 0.01, 0.02, 0.03, 0.04, 0.05] }\n",
    "port_a=np.array(returns_data['portfolio_A'])\n",
    "port_b=np.array(returns_data['portfolio_B'])\n",
    "port_c=np.array(returns_data['portfolio_C'])\n",
    "print(port_a)\n",
    "print(port_b)\n",
    "print(port_c)"
   ]
  },
  {
   "cell_type": "code",
   "execution_count": 25,
   "id": "f84f6519",
   "metadata": {},
   "outputs": [
    {
     "name": "stdout",
     "output_type": "stream",
     "text": [
      "TOTAL RETURN OVER EACH PORTFOLIOS\n",
      "Portfolio A : 0.210\n",
      "Portfolio B : 0.190\n",
      "Portfolio C : 0.18\n"
     ]
    }
   ],
   "source": [
    "# 2.Calculate the total return for each portfolio over the six months.\n",
    "print(\"TOTAL RETURN OVER EACH PORTFOLIOS\")\n",
    "print(f\"Portfolio A : {np.sum(port_a):.3f}\")\n",
    "print(f\"Portfolio B : {np.sum(port_b):.3f}\")\n",
    "print(f\"Portfolio C : {np.sum(port_c)}\")"
   ]
  },
  {
   "cell_type": "code",
   "execution_count": 26,
   "id": "ec13cee2",
   "metadata": {},
   "outputs": [
    {
     "name": "stdout",
     "output_type": "stream",
     "text": [
      "Portfolio A : 0.035\n",
      "Portfolio B : 0.032\n",
      "Portfolio C : 0.030\n"
     ]
    }
   ],
   "source": [
    "# 3.Calculate the mean monthly return for each portfolio.\n",
    "print(f\"Portfolio A : {np.mean(port_a):.3f}\")\n",
    "print(f\"Portfolio B : {np.mean(port_b):.3f}\")\n",
    "print(f\"Portfolio C : {np.mean(port_c):.3f}\")"
   ]
  },
  {
   "cell_type": "code",
   "execution_count": 29,
   "id": "c82106eb",
   "metadata": {},
   "outputs": [
    {
     "name": "stdout",
     "output_type": "stream",
     "text": [
      "Portfolio A has the highest mean\n"
     ]
    }
   ],
   "source": [
    "# 4.Find the portfolio with the highest mean return.\n",
    "l=[]\n",
    "l.append(np.mean(port_a))\n",
    "l.append(np.mean(port_b))\n",
    "l.append(np.mean(port_c))\n",
    "index=np.argmax(np.array(l))\n",
    "if(index==0):\n",
    "    print(\"Portfolio A has the highest mean\")\n",
    "elif index==1:\n",
    "    print(\"Portfolio B has the highest mean\")\n",
    "else:\n",
    "    print(\"Portfolio C has the highest mean\")\n"
   ]
  },
  {
   "cell_type": "code",
   "execution_count": 30,
   "id": "59181676",
   "metadata": {},
   "outputs": [
    {
     "name": "stdout",
     "output_type": "stream",
     "text": [
      "Overall Average Return : 0.193\n"
     ]
    }
   ],
   "source": [
    "# 5.Calculate the overall average return across all portfolios.\n",
    "print(f\"Overall Average Return : {(np.sum(port_a)+np.sum(port_b)+np.sum(port_c))/3:.3f}\")"
   ]
  },
  {
   "cell_type": "code",
   "execution_count": 31,
   "id": "0ffde628",
   "metadata": {},
   "outputs": [
    {
     "name": "stdout",
     "output_type": "stream",
     "text": [
      "STD AND VARIANCE OVER EACH PORTFOLIOS\n",
      "For Portfolio A\n",
      "Standard Deviation : 0.017\n",
      "Variance : 0.000\n",
      "For Portfolio B\n",
      "Standard Deviation : 0.013\n",
      "Variance : 0.000\n",
      "For Portfolio C\n",
      "Standard Deviation : 0.013\n",
      "Variance : 0.000\n"
     ]
    }
   ],
   "source": [
    "# 6.Determine the variance and standard deviation of the returns for each portfolio to assess risk.\n",
    "print(\"STD AND VARIANCE OVER EACH PORTFOLIOS\")\n",
    "print(\"For Portfolio A\")\n",
    "print(f\"Standard Deviation : {np.std(port_a):.3f}\")\n",
    "print(f\"Variance : {np.var(port_a):.3f}\")\n",
    "print(\"For Portfolio B\")\n",
    "print(f\"Standard Deviation : {np.std(port_b):.3f}\")\n",
    "print(f\"Variance : {np.var(port_b):.3f}\")\n",
    "print(\"For Portfolio C\")\n",
    "print(f\"Standard Deviation : {np.std(port_c):.3f}\")\n",
    "print(f\"Variance : {np.var(port_c):.3f}\")\n"
   ]
  },
  {
   "cell_type": "markdown",
   "id": "7c5d4c87",
   "metadata": {},
   "source": [
    "# Ex No 1.c: Splitting and Aggregation\n",
    "Aim: \n",
    "To practice slicing, indexing, splitting, and aggregating Numpy arrays.\n",
    "\n",
    "Scenario: \n",
    "You are analysing the monthly rainfall data of a region for a year. You need to extract specific information for analysis, including quarterly splits and total rainfall for each quarter.\n",
    "\n",
    "Sample Dataset:\n",
    "rainfall_data = [120, 85, 90, 110, 95, 100, 105, 85, 115, 130, 125, 140]\n",
    "\n",
    "Task to be Performed:\n",
    "\n",
    "1.\tCreate a Numpy array from the given rainfall data.\n",
    "2.\tSlice the array to get the rainfall data for the first quarter (January to March).\n",
    "3.\tIndex the array to get the rainfall data for July.\n",
    "4.\tSplit the array into four quarters and print each quarter's data.\n",
    "5.\tCalculate and print the total rainfall for each quarter and also print the month with the highest rainfall in each month\n",
    "\n",
    "Expected Output:\n",
    "\n",
    "1.\tFirst Quarter Rainfall Data: [120 85 90] \n",
    "\n",
    "2.\tRainfall for July: 105 \n",
    "\n",
    "3.\tFirst Quarter Rainfall Data: [120  85  90]\n",
    "    Second Quarter Rainfall Data: [110  95 100]\n",
    "    Third Quarter Rainfall Data: [105  85 115]\n",
    "    Fourth Quarter Rainfall Data: [130 125 140].\n",
    "\n",
    "4.\tTotal Rainfall for First Quarter: 295 \n",
    "\n",
    "    Month with highest rainfall in First Quarter: Month 1 with 120 \n",
    "\n",
    "    Total Rainfall for Second Quarter: 305 \n",
    "\n",
    "    Month with highest rainfall in Second Quarter: Month 1 with 110 \n",
    "\n",
    "    Total Rainfall for Third Quarter: 305 \n",
    "\n",
    "    Month with highest rainfall in Third Quarter: Month 3 with 115 \n",
    "\n",
    "    Total Rainfall for Fourth Quarter: 395 \n",
    "    \n",
    "    Month with highest rainfall in Fourth Quarter: Month 3 with 140 \n"
   ]
  },
  {
   "cell_type": "code",
   "execution_count": 3,
   "id": "c1f88af8",
   "metadata": {},
   "outputs": [
    {
     "name": "stdout",
     "output_type": "stream",
     "text": [
      "[120  85  90 110  95 100 105  85 115 130 125 140]\n"
     ]
    }
   ],
   "source": [
    "# Create a Numpy array from the given rainfall data.\n",
    "import numpy as np\n",
    "rainfall_data = [120, 85, 90, 110, 95, 100, 105, 85, 115, 130, 125, 140]\n",
    "rainfall=np.array(rainfall_data)\n",
    "print(rainfall)"
   ]
  },
  {
   "cell_type": "code",
   "execution_count": 5,
   "id": "08096a71",
   "metadata": {},
   "outputs": [
    {
     "name": "stdout",
     "output_type": "stream",
     "text": [
      "First Quarter Rainfall Data: [120  85  90]\n"
     ]
    }
   ],
   "source": [
    "# Slice the array to get the rainfall data for the first quarter (January to March).\n",
    "print(f\"First Quarter Rainfall Data: {rainfall[:3]}\")"
   ]
  },
  {
   "cell_type": "code",
   "execution_count": 6,
   "id": "9af458ed",
   "metadata": {},
   "outputs": [
    {
     "name": "stdout",
     "output_type": "stream",
     "text": [
      "Rainfall for July: 105\n"
     ]
    }
   ],
   "source": [
    "# Index the array to get the rainfall data for July.\n",
    "print(f\"Rainfall for July: {rainfall[6]}\")"
   ]
  },
  {
   "cell_type": "code",
   "execution_count": 10,
   "id": "3ffc453b",
   "metadata": {
    "scrolled": true
   },
   "outputs": [
    {
     "name": "stdout",
     "output_type": "stream",
     "text": [
      "First Quarter Rainfall Data: [120  85  90]\n",
      "Second Quarter Rainfall Data: [110  95 100]\n",
      "Third Quarter Rainfall Data: [105  85 115]\n",
      "Fourth Quarter Rainfall Data: [130 125 140]\n"
     ]
    }
   ],
   "source": [
    "# Split the array into four quarters and print each quarter's data.\n",
    "print(f\"First Quarter Rainfall Data: {rainfall[:3]}\")\n",
    "print(f\"Second Quarter Rainfall Data: {rainfall[3:6]}\")\n",
    "print(f\"Third Quarter Rainfall Data: {rainfall[6:9]}\")\n",
    "print(f\"Fourth Quarter Rainfall Data: {rainfall[9:]}\")"
   ]
  },
  {
   "cell_type": "code",
   "execution_count": 20,
   "id": "c99ce56d",
   "metadata": {},
   "outputs": [
    {
     "name": "stdout",
     "output_type": "stream",
     "text": [
      "Total Rainfall for first quarter : 295\n",
      "Month with highest rainfall in first quarter : Month 1 with 120\n",
      "total Rainfall for second quarter : 305\n",
      "Month with highest rainfall in second quarter : Month 1 with 110\n",
      "total Rainfall for third quarter : 305\n",
      "Month with highest rainfall in third quarter : Month 3 with 115\n",
      "total Rainfall for fouth quarter : 395\n",
      "Month with highest rainfall in fourth quarter : Month 3 with 140\n"
     ]
    }
   ],
   "source": [
    "# Calculate and print the total rainfall for each quarter and also print the month with the highest rainfall in each month\n",
    "print(f\"Total Rainfall for first quarter : {np.sum(rainfall[:3])}\")\n",
    "print(f\"Month with highest rainfall in first quarter : Month {np.argmax(rainfall[:3])+1} with {rainfall[np.argmax(rainfall[:3])]}\")\n",
    "print(f\"total Rainfall for second quarter : {np.sum(rainfall[3:6])}\")\n",
    "print(f\"Month with highest rainfall in second quarter : Month {np.argmax(rainfall[3:6])+1} with {rainfall[np.argmax(rainfall[3:6])+3]}\")\n",
    "print(f\"total Rainfall for third quarter : {np.sum(rainfall[6:9])}\")\n",
    "print(f\"Month with highest rainfall in third quarter : Month {np.argmax(rainfall[6:9])+1} with {rainfall[np.argmax(rainfall[6:9])+6]}\")\n",
    "print(f\"total Rainfall for fouth quarter : {np.sum(rainfall[9:])}\")\n",
    "print(f\"Month with highest rainfall in fourth quarter : Month {np.argmax(rainfall[9:])+1} with {rainfall[np.argmax(rainfall[9:])+9]}\")\n"
   ]
  },
  {
   "cell_type": "code",
   "execution_count": null,
   "id": "3df766de",
   "metadata": {},
   "outputs": [],
   "source": []
  }
 ],
 "metadata": {
  "kernelspec": {
   "display_name": "Python 3 (ipykernel)",
   "language": "python",
   "name": "python3"
  },
  "language_info": {
   "codemirror_mode": {
    "name": "ipython",
    "version": 3
   },
   "file_extension": ".py",
   "mimetype": "text/x-python",
   "name": "python",
   "nbconvert_exporter": "python",
   "pygments_lexer": "ipython3",
   "version": "3.10.9"
  }
 },
 "nbformat": 4,
 "nbformat_minor": 5
}
